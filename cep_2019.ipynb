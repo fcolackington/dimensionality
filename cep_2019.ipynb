{
 "cells": [
  {
   "cell_type": "markdown",
   "metadata": {},
   "source": [
    "<h2 style=\"text-align: center;\">Análisis de encuesta CEP 2019</h2>"
   ]
  },
  {
   "cell_type": "code",
   "execution_count": 1,
   "metadata": {},
   "outputs": [],
   "source": [
    "# Importamos librerias\n",
    "\n",
    "import pandas as pd\n",
    "import numpy as np\n",
    "import matplotlib.pyplot as plt\n",
    "import seaborn as sns\n",
    "from scipy import stats\n",
    "\n",
    "import factor_analyzer as factor\n",
    "import missingno as msgn\n",
    "\n",
    "import lec7_graphs as gfx\n",
    "\n",
    "import warnings\n",
    "warnings.filterwarnings(action='ignore')\n",
    "\n",
    "plt.style.use('seaborn-whitegrid')\n",
    "plt.rcParams['figure.figsize'] = (10,5)"
   ]
  },
  {
   "cell_type": "code",
   "execution_count": 2,
   "metadata": {},
   "outputs": [],
   "source": [
    "import pyreadstat\n",
    "\n",
    "df, meta = pyreadstat.read_sav('encuesta_cep_2019.sav')"
   ]
  },
  {
   "cell_type": "code",
   "execution_count": 3,
   "metadata": {},
   "outputs": [
    {
     "data": {
      "text/plain": [
       "Index(['ZONA', 'PROVINCIA_BD', 'COMUNA_BD', 'UMP', 'FECHAFIN', 'REGION',\n",
       "       'SV_1', 'SV_2', 'SV3_1', 'SV3_2',\n",
       "       ...\n",
       "       'DS_P36_11', 'DS_P36_12', 'DS_P36_13', 'DS_P36_14', 'DS_P36_15',\n",
       "       'DS_P36_16', 'DS_P36_17', 'DS_P37_1', 'DS_P37_2', 'PONDERADOR'],\n",
       "      dtype='object', length=258)"
      ]
     },
     "execution_count": 3,
     "metadata": {},
     "output_type": "execute_result"
    }
   ],
   "source": [
    "df.columns"
   ]
  },
  {
   "cell_type": "code",
   "execution_count": 4,
   "metadata": {},
   "outputs": [],
   "source": [
    "# Veamos todas aquellas columnas que contienen MB_P11\n",
    "# Estas son las relacionadas a la satisfaccion con instituciones y medios\n",
    "\n",
    "trust_df = df.filter(regex='MB_P11_*')"
   ]
  },
  {
   "cell_type": "code",
   "execution_count": 5,
   "metadata": {},
   "outputs": [
    {
     "data": {
      "text/html": [
       "<div>\n",
       "<style scoped>\n",
       "    .dataframe tbody tr th:only-of-type {\n",
       "        vertical-align: middle;\n",
       "    }\n",
       "\n",
       "    .dataframe tbody tr th {\n",
       "        vertical-align: top;\n",
       "    }\n",
       "\n",
       "    .dataframe thead th {\n",
       "        text-align: right;\n",
       "    }\n",
       "</style>\n",
       "<table border=\"1\" class=\"dataframe\">\n",
       "  <thead>\n",
       "    <tr style=\"text-align: right;\">\n",
       "      <th></th>\n",
       "      <th>MB_P11_1</th>\n",
       "      <th>MB_P11_2</th>\n",
       "      <th>MB_P11_3</th>\n",
       "      <th>MB_P11_4</th>\n",
       "      <th>MB_P11_5</th>\n",
       "      <th>MB_P11_6</th>\n",
       "      <th>MB_P11_7</th>\n",
       "      <th>MB_P11_8</th>\n",
       "      <th>MB_P11_9</th>\n",
       "      <th>MB_P11_10</th>\n",
       "      <th>MB_P11_11</th>\n",
       "      <th>MB_P11_12</th>\n",
       "      <th>MB_P11_13</th>\n",
       "      <th>MB_P11_14</th>\n",
       "      <th>MB_P11_15</th>\n",
       "      <th>MB_P11_16</th>\n",
       "      <th>MB_P11_17</th>\n",
       "    </tr>\n",
       "  </thead>\n",
       "  <tbody>\n",
       "    <tr>\n",
       "      <th>1174</th>\n",
       "      <td>9.0</td>\n",
       "      <td>9.0</td>\n",
       "      <td>9.0</td>\n",
       "      <td>9.0</td>\n",
       "      <td>9.0</td>\n",
       "      <td>9.0</td>\n",
       "      <td>9.0</td>\n",
       "      <td>9.0</td>\n",
       "      <td>9.0</td>\n",
       "      <td>8.0</td>\n",
       "      <td>8.0</td>\n",
       "      <td>8.0</td>\n",
       "      <td>8.0</td>\n",
       "      <td>9.0</td>\n",
       "      <td>9.0</td>\n",
       "      <td>8.0</td>\n",
       "      <td>8.0</td>\n",
       "    </tr>\n",
       "  </tbody>\n",
       "</table>\n",
       "</div>"
      ],
      "text/plain": [
       "      MB_P11_1  MB_P11_2  MB_P11_3  MB_P11_4  MB_P11_5  MB_P11_6  MB_P11_7  \\\n",
       "1174       9.0       9.0       9.0       9.0       9.0       9.0       9.0   \n",
       "\n",
       "      MB_P11_8  MB_P11_9  MB_P11_10  MB_P11_11  MB_P11_12  MB_P11_13  \\\n",
       "1174       9.0       9.0        8.0        8.0        8.0        8.0   \n",
       "\n",
       "      MB_P11_14  MB_P11_15  MB_P11_16  MB_P11_17  \n",
       "1174        9.0        9.0        8.0        8.0  "
      ]
     },
     "execution_count": 5,
     "metadata": {},
     "output_type": "execute_result"
    }
   ],
   "source": [
    "trust_df.sample()"
   ]
  },
  {
   "cell_type": "code",
   "execution_count": 6,
   "metadata": {},
   "outputs": [],
   "source": [
    "# Cambiando nombre de las columnas\n",
    "\n",
    "trust_df = trust_df.rename(columns={\n",
    "    'MB_P11_1': 'I.Catolica', 'MB_P11_2':'FF.AA',\n",
    "    'MB_P11_3':'I.Evangelica', 'MB_P11_4':'Partidos Politicos',\n",
    "    'MB_P11_5':'Tribunales Justicia', 'MB_P11_6':'Diarios',\n",
    "    'MB_P11_7':'Television', 'MB_P11_8':'Radio',\n",
    "    'MB_P11_9':'RRSS', 'MB_P11_10':'Sindicatos',\n",
    "    'MB_P11_11':'Carabineros', 'MB_P11_12':'Gobierno',\n",
    "    'MB_P11_13':'Congreso', 'MB_P11_14':'Empresas Privadas',\n",
    "    'MB_P11_15':'Municipalidades', 'MB_P11_16':'Fiscales',\n",
    "    'MB_P11_17':'PDI'\n",
    "})"
   ]
  },
  {
   "cell_type": "code",
   "execution_count": 7,
   "metadata": {},
   "outputs": [],
   "source": [
    "# Veamos datos perdidos\n",
    "\n",
    "def fetch_missing(data, missing_vals = [8,9]):\n",
    "    for colname, serie in data.iteritems(): #iteritms itera por columnas\n",
    "        print(colname, serie.isin(missing_vals).value_counts('%')[1].round(3))\n",
    "        "
   ]
  },
  {
   "cell_type": "code",
   "execution_count": 8,
   "metadata": {},
   "outputs": [
    {
     "name": "stdout",
     "output_type": "stream",
     "text": [
      "I.Catolica 0.005\n",
      "FF.AA 0.006\n",
      "I.Evangelica 0.02\n",
      "Partidos Politicos 0.011\n",
      "Tribunales Justicia 0.008\n",
      "Diarios 0.011\n",
      "Television 0.008\n",
      "Radio 0.013\n",
      "RRSS 0.082\n",
      "Sindicatos 0.061\n",
      "Carabineros 0.006\n",
      "Gobierno 0.009\n",
      "Congreso 0.017\n",
      "Empresas Privadas 0.025\n",
      "Municipalidades 0.011\n",
      "Fiscales 0.021\n",
      "PDI 0.015\n"
     ]
    }
   ],
   "source": [
    "fetch_missing(trust_df)"
   ]
  },
  {
   "cell_type": "code",
   "execution_count": 9,
   "metadata": {},
   "outputs": [
    {
     "data": {
      "text/plain": [
       "<AxesSubplot:>"
      ]
     },
     "execution_count": 9,
     "metadata": {},
     "output_type": "execute_result"
    },
    {
     "data": {
      "image/png": "[encoded data removed]",
      "text/plain": [
       "<Figure size 1800x720 with 2 Axes>"
      ]
     },
     "metadata": {},
     "output_type": "display_data"
    }
   ],
   "source": [
    "# Otra manera de visualizar datos perdidos\n",
    "\n",
    "msgn.matrix(trust_df.replace([8,9], [np.nan, np.nan]))"
   ]
  },
  {
   "cell_type": "markdown",
   "metadata": {},
   "source": [
    "- Se pude observar que existe una gran cantidad de datos perdidos en algunas variables, lo que implica que al hacer el estudio factorial, estas presenten una baja carga"
   ]
  },
  {
   "cell_type": "code",
   "execution_count": 10,
   "metadata": {},
   "outputs": [],
   "source": [
    "# Veamos el comportamiento para las medias de cada uno de estos items\n",
    "\n",
    "variable, mean = [], []\n",
    "\n",
    "for colname, serie in trust_df.iteritems():\n",
    "    variable.append(colname)\n",
    "    mean.append(serie.mean())\n",
    "    \n",
    "tmp_df = pd.DataFrame({'var': variable, 'mean': mean}).sort_values(by = ['mean'])"
   ]
  },
  {
   "cell_type": "code",
   "execution_count": 11,
   "metadata": {},
   "outputs": [
    {
     "data": {
      "image/png": "[encoded data removed]",
      "text/plain": [
       "<Figure size 720x360 with 1 Axes>"
      ]
     },
     "metadata": {},
     "output_type": "display_data"
    }
   ],
   "source": [
    "plt.plot(tmp_df['mean'], tmp_df['var'], 'o')\n",
    "plt.axvline(x = 2.5, linestyle = '--', color = 'tomato')\n",
    "plt.xlim(1, 4);"
   ]
  },
  {
   "cell_type": "markdown",
   "metadata": {},
   "source": [
    "Sabemos que el 1 es mayor confianza y 4 es menor confianza en las instituciones\n",
    "\n",
    "***Tomando como corte de separacion 2.5 entre mayor y menor confianza***\n",
    "- Se obsserva que todas las instituciones presentan un importante grado de desconfianza.\n",
    "- Se observa que dentro de las instituciones las que presentan una mayor confianza son radio, FF.AA y PDI con valores cercanos a 3.0.\n",
    "- Aquellas que presentan la menor confianza son Partidos politicos, Congreso, Gobiernop y Empresas Privadas"
   ]
  },
  {
   "cell_type": "markdown",
   "metadata": {},
   "source": [
    "### Supuestos de Ideonidad factorial"
   ]
  },
  {
   "cell_type": "code",
   "execution_count": 12,
   "metadata": {},
   "outputs": [
    {
     "data": {
      "text/plain": [
       "(7040.1082928741, 0.0)"
      ]
     },
     "execution_count": 12,
     "metadata": {},
     "output_type": "execute_result"
    }
   ],
   "source": [
    "factor.calculate_bartlett_sphericity(trust_df)"
   ]
  },
  {
   "cell_type": "markdown",
   "metadata": {},
   "source": [
    "- Nuestro segundo argumento p-value indica que existe informacion suficiente para rechazar hipotesis nula, estamos en condiciones para decir que al menos existe un nivel de covarianza entre los items"
   ]
  },
  {
   "cell_type": "code",
   "execution_count": 13,
   "metadata": {},
   "outputs": [
    {
     "data": {
      "text/plain": [
       "(array([0.88866043, 0.85558884, 0.92532325, 0.87660978, 0.90599349,\n",
       "        0.89485181, 0.87585189, 0.86856852, 0.67696809, 0.80353701,\n",
       "        0.86246278, 0.86756283, 0.86297001, 0.9146819 , 0.91484631,\n",
       "        0.89905442, 0.91907355]),\n",
       " 0.8816683723239598)"
      ]
     },
     "execution_count": 13,
     "metadata": {},
     "output_type": "execute_result"
    }
   ],
   "source": [
    "factor.calculate_kmo(trust_df)"
   ]
  },
  {
   "cell_type": "markdown",
   "metadata": {},
   "source": [
    "- Como el KMO global (0.88) es mayor a 0.7, podemos decir que al menos hay un factor latente que es importante a considerar\n",
    "- Se observa que existen valores de kmo para variables que están bajo 0.7, por lo que podrían ser sacadas de la muestra y volver a calcular nuestro KMO Global."
   ]
  },
  {
   "cell_type": "markdown",
   "metadata": {},
   "source": [
    "### Definiendo cantidad de factores"
   ]
  },
  {
   "cell_type": "code",
   "execution_count": 14,
   "metadata": {},
   "outputs": [],
   "source": [
    "# 1. Se debe indicar la cantidad de factores al instanciar la clase, y el método de rotación en el atributo \"rotation\"\n",
    "factorize = factor.FactorAnalyzer(n_factors=7, rotation=\"varimax\")"
   ]
  },
  {
   "cell_type": "code",
   "execution_count": 15,
   "metadata": {},
   "outputs": [
    {
     "data": {
      "text/plain": [
       "FactorAnalyzer(bounds=(0.005, 1), impute='median', is_corr_matrix=False,\n",
       "               method='minres', n_factors=7, rotation='varimax',\n",
       "               rotation_kwargs={}, use_smc=True)"
      ]
     },
     "execution_count": 15,
     "metadata": {},
     "output_type": "execute_result"
    }
   ],
   "source": [
    "# 2. Se debe llamar al método fit, pasando como argumento el set de datos\n",
    "factorize.fit(trust_df)"
   ]
  },
  {
   "cell_type": "code",
   "execution_count": 16,
   "metadata": {},
   "outputs": [
    {
     "data": {
      "text/plain": [
       "array([5.22511023, 1.58933741, 1.21352241, 1.13023778, 0.93997435,\n",
       "       0.85102698, 0.79508412, 0.71459518, 0.66627026, 0.62521409,\n",
       "       0.58154569, 0.56195488, 0.49764843, 0.46259722, 0.42791968,\n",
       "       0.37425825, 0.34370305])"
      ]
     },
     "execution_count": 16,
     "metadata": {},
     "output_type": "execute_result"
    }
   ],
   "source": [
    "# 3. Se pueden obtener los eigenvalues accediendo al método get_eigenvalues, luego de aplicar fit\n",
    "factor_eigenvalues = factorize.get_eigenvalues()[0]\n",
    "factor_eigenvalues"
   ]
  },
  {
   "cell_type": "code",
   "execution_count": 17,
   "metadata": {},
   "outputs": [
    {
     "data": {
      "image/png": "[encoded data removed]",
      "text/plain": [
       "<Figure size 720x360 with 1 Axes>"
      ]
     },
     "metadata": {},
     "output_type": "display_data"
    }
   ],
   "source": [
    "# 4. Al momento de graficar, debemos asignar en el eje x una lista o arreglo de valores de 1 a n,\n",
    "# siendo n la cantidad de eigenvalues obtenidos. Y en el eje y los eigenvalues obtenidos.\n",
    "plt.plot(np.arange(1,len(factor_eigenvalues) + 1), factor_eigenvalues, \"o-\", color=\"tomato\");\n",
    "plt.xlabel(\"Número de factores latentes\");\n",
    "plt.ylabel(\"Eigenvalues\");\n",
    "plt.axhline(1, color=\"dodgerblue\")\n",
    "plt.show()"
   ]
  },
  {
   "cell_type": "markdown",
   "metadata": {},
   "source": [
    "- Se toma como limite todas aquellas que estan sobre el corte que sera Eigenvalues > 1, por lo que en este caso se tomarian 4 categorias latentes"
   ]
  },
  {
   "cell_type": "code",
   "execution_count": 18,
   "metadata": {},
   "outputs": [
    {
     "data": {
      "text/plain": [
       "FactorAnalyzer(bounds=(0.005, 1), impute='median', is_corr_matrix=False,\n",
       "               method='minres', n_factors=4, rotation='varimax',\n",
       "               rotation_kwargs={}, use_smc=True)"
      ]
     },
     "execution_count": 18,
     "metadata": {},
     "output_type": "execute_result"
    }
   ],
   "source": [
    "# 5. Se actualiza la cantidad de factores, y se aplica fit\n",
    "factorize_dos = factor.FactorAnalyzer(n_factors=4, rotation=\"varimax\")\n",
    "factorize_dos.fit(trust_df)"
   ]
  },
  {
   "cell_type": "code",
   "execution_count": 19,
   "metadata": {},
   "outputs": [
    {
     "data": {
      "text/plain": [
       "array([[ 0.35630469,  0.08965262,  0.2342698 , -0.06906534],\n",
       "       [ 0.71294992,  0.07346324,  0.19314341,  0.00544496],\n",
       "       [ 0.18690733,  0.2016872 ,  0.14139654, -0.03553612],\n",
       "       [ 0.10088781,  0.52547182,  0.23997892,  0.06044315],\n",
       "       [ 0.17374309,  0.49495628,  0.34005601,  0.13277485],\n",
       "       [ 0.18312971,  0.2564031 ,  0.61714346,  0.18433151],\n",
       "       [ 0.21168516,  0.24286165,  0.60551179, -0.0793523 ],\n",
       "       [ 0.19043751,  0.04098818,  0.48383358,  0.30904423],\n",
       "       [-0.05717835,  0.00848648,  0.05371742,  0.49819577],\n",
       "       [ 0.02938638,  0.21340227,  0.01903176,  0.4895429 ],\n",
       "       [ 0.731433  ,  0.23301596,  0.1440188 ,  0.00189448],\n",
       "       [ 0.53448172,  0.43410416,  0.05794855, -0.00352127],\n",
       "       [ 0.24016107,  0.65729712,  0.06489075,  0.20535358],\n",
       "       [ 0.22183896,  0.46177273,  0.10989318,  0.35057757],\n",
       "       [ 0.41296901,  0.24449951,  0.19918417,  0.27842848],\n",
       "       [ 0.295564  ,  0.46812605,  0.19754356,  0.36936787],\n",
       "       [ 0.58004238,  0.2421081 ,  0.13606597,  0.29255958]])"
      ]
     },
     "execution_count": 19,
     "metadata": {},
     "output_type": "execute_result"
    }
   ],
   "source": [
    "# 6. Para ver las cargas de cada factor, se accede a loadings_ dentro del objeto ya fiteado\n",
    "factorize_dos.loadings_"
   ]
  },
  {
   "cell_type": "code",
   "execution_count": 20,
   "metadata": {},
   "outputs": [
    {
     "data": {
      "text/html": [
       "<div>\n",
       "<style scoped>\n",
       "    .dataframe tbody tr th:only-of-type {\n",
       "        vertical-align: middle;\n",
       "    }\n",
       "\n",
       "    .dataframe tbody tr th {\n",
       "        vertical-align: top;\n",
       "    }\n",
       "\n",
       "    .dataframe thead th {\n",
       "        text-align: right;\n",
       "    }\n",
       "</style>\n",
       "<table border=\"1\" class=\"dataframe\">\n",
       "  <thead>\n",
       "    <tr style=\"text-align: right;\">\n",
       "      <th></th>\n",
       "      <th>Factor1</th>\n",
       "      <th>Factor2</th>\n",
       "      <th>Factor3</th>\n",
       "      <th>Factor4</th>\n",
       "    </tr>\n",
       "  </thead>\n",
       "  <tbody>\n",
       "    <tr>\n",
       "      <th>I.Catolica</th>\n",
       "      <td>0.356305</td>\n",
       "      <td>0.089653</td>\n",
       "      <td>0.234270</td>\n",
       "      <td>-0.069065</td>\n",
       "    </tr>\n",
       "    <tr>\n",
       "      <th>FF.AA</th>\n",
       "      <td>0.712950</td>\n",
       "      <td>0.073463</td>\n",
       "      <td>0.193143</td>\n",
       "      <td>0.005445</td>\n",
       "    </tr>\n",
       "    <tr>\n",
       "      <th>I.Evangelica</th>\n",
       "      <td>0.186907</td>\n",
       "      <td>0.201687</td>\n",
       "      <td>0.141397</td>\n",
       "      <td>-0.035536</td>\n",
       "    </tr>\n",
       "    <tr>\n",
       "      <th>Partidos Politicos</th>\n",
       "      <td>0.100888</td>\n",
       "      <td>0.525472</td>\n",
       "      <td>0.239979</td>\n",
       "      <td>0.060443</td>\n",
       "    </tr>\n",
       "    <tr>\n",
       "      <th>Tribunales Justicia</th>\n",
       "      <td>0.173743</td>\n",
       "      <td>0.494956</td>\n",
       "      <td>0.340056</td>\n",
       "      <td>0.132775</td>\n",
       "    </tr>\n",
       "    <tr>\n",
       "      <th>Diarios</th>\n",
       "      <td>0.183130</td>\n",
       "      <td>0.256403</td>\n",
       "      <td>0.617143</td>\n",
       "      <td>0.184332</td>\n",
       "    </tr>\n",
       "    <tr>\n",
       "      <th>Television</th>\n",
       "      <td>0.211685</td>\n",
       "      <td>0.242862</td>\n",
       "      <td>0.605512</td>\n",
       "      <td>-0.079352</td>\n",
       "    </tr>\n",
       "    <tr>\n",
       "      <th>Radio</th>\n",
       "      <td>0.190438</td>\n",
       "      <td>0.040988</td>\n",
       "      <td>0.483834</td>\n",
       "      <td>0.309044</td>\n",
       "    </tr>\n",
       "    <tr>\n",
       "      <th>RRSS</th>\n",
       "      <td>-0.057178</td>\n",
       "      <td>0.008486</td>\n",
       "      <td>0.053717</td>\n",
       "      <td>0.498196</td>\n",
       "    </tr>\n",
       "    <tr>\n",
       "      <th>Sindicatos</th>\n",
       "      <td>0.029386</td>\n",
       "      <td>0.213402</td>\n",
       "      <td>0.019032</td>\n",
       "      <td>0.489543</td>\n",
       "    </tr>\n",
       "    <tr>\n",
       "      <th>Carabineros</th>\n",
       "      <td>0.731433</td>\n",
       "      <td>0.233016</td>\n",
       "      <td>0.144019</td>\n",
       "      <td>0.001894</td>\n",
       "    </tr>\n",
       "    <tr>\n",
       "      <th>Gobierno</th>\n",
       "      <td>0.534482</td>\n",
       "      <td>0.434104</td>\n",
       "      <td>0.057949</td>\n",
       "      <td>-0.003521</td>\n",
       "    </tr>\n",
       "    <tr>\n",
       "      <th>Congreso</th>\n",
       "      <td>0.240161</td>\n",
       "      <td>0.657297</td>\n",
       "      <td>0.064891</td>\n",
       "      <td>0.205354</td>\n",
       "    </tr>\n",
       "    <tr>\n",
       "      <th>Empresas Privadas</th>\n",
       "      <td>0.221839</td>\n",
       "      <td>0.461773</td>\n",
       "      <td>0.109893</td>\n",
       "      <td>0.350578</td>\n",
       "    </tr>\n",
       "    <tr>\n",
       "      <th>Municipalidades</th>\n",
       "      <td>0.412969</td>\n",
       "      <td>0.244500</td>\n",
       "      <td>0.199184</td>\n",
       "      <td>0.278428</td>\n",
       "    </tr>\n",
       "    <tr>\n",
       "      <th>Fiscales</th>\n",
       "      <td>0.295564</td>\n",
       "      <td>0.468126</td>\n",
       "      <td>0.197544</td>\n",
       "      <td>0.369368</td>\n",
       "    </tr>\n",
       "    <tr>\n",
       "      <th>PDI</th>\n",
       "      <td>0.580042</td>\n",
       "      <td>0.242108</td>\n",
       "      <td>0.136066</td>\n",
       "      <td>0.292560</td>\n",
       "    </tr>\n",
       "  </tbody>\n",
       "</table>\n",
       "</div>"
      ],
      "text/plain": [
       "                      Factor1   Factor2   Factor3   Factor4\n",
       "I.Catolica           0.356305  0.089653  0.234270 -0.069065\n",
       "FF.AA                0.712950  0.073463  0.193143  0.005445\n",
       "I.Evangelica         0.186907  0.201687  0.141397 -0.035536\n",
       "Partidos Politicos   0.100888  0.525472  0.239979  0.060443\n",
       "Tribunales Justicia  0.173743  0.494956  0.340056  0.132775\n",
       "Diarios              0.183130  0.256403  0.617143  0.184332\n",
       "Television           0.211685  0.242862  0.605512 -0.079352\n",
       "Radio                0.190438  0.040988  0.483834  0.309044\n",
       "RRSS                -0.057178  0.008486  0.053717  0.498196\n",
       "Sindicatos           0.029386  0.213402  0.019032  0.489543\n",
       "Carabineros          0.731433  0.233016  0.144019  0.001894\n",
       "Gobierno             0.534482  0.434104  0.057949 -0.003521\n",
       "Congreso             0.240161  0.657297  0.064891  0.205354\n",
       "Empresas Privadas    0.221839  0.461773  0.109893  0.350578\n",
       "Municipalidades      0.412969  0.244500  0.199184  0.278428\n",
       "Fiscales             0.295564  0.468126  0.197544  0.369368\n",
       "PDI                  0.580042  0.242108  0.136066  0.292560"
      ]
     },
     "execution_count": 20,
     "metadata": {},
     "output_type": "execute_result"
    }
   ],
   "source": [
    "# 7. Podemos generar un DataFrame de la siguiente forma\n",
    "loadings_df = pd.DataFrame(factorize_dos.loadings_, columns=[\"Factor1\", \"Factor2\", 'Factor3', 'Factor4'] \n",
    "                           ,index=trust_df.columns)\n",
    "loadings_df"
   ]
  },
  {
   "cell_type": "code",
   "execution_count": 21,
   "metadata": {},
   "outputs": [
    {
     "data": {
      "text/html": [
       "<div>\n",
       "<style scoped>\n",
       "    .dataframe tbody tr th:only-of-type {\n",
       "        vertical-align: middle;\n",
       "    }\n",
       "\n",
       "    .dataframe tbody tr th {\n",
       "        vertical-align: top;\n",
       "    }\n",
       "\n",
       "    .dataframe thead th {\n",
       "        text-align: right;\n",
       "    }\n",
       "</style>\n",
       "<table border=\"1\" class=\"dataframe\">\n",
       "  <thead>\n",
       "    <tr style=\"text-align: right;\">\n",
       "      <th></th>\n",
       "      <th>Factor1</th>\n",
       "      <th>Factor2</th>\n",
       "      <th>Factor3</th>\n",
       "      <th>Factor4</th>\n",
       "    </tr>\n",
       "  </thead>\n",
       "  <tbody>\n",
       "    <tr>\n",
       "      <th>I.Catolica</th>\n",
       "      <td></td>\n",
       "      <td></td>\n",
       "      <td></td>\n",
       "      <td></td>\n",
       "    </tr>\n",
       "    <tr>\n",
       "      <th>FF.AA</th>\n",
       "      <td>0.71</td>\n",
       "      <td></td>\n",
       "      <td></td>\n",
       "      <td></td>\n",
       "    </tr>\n",
       "    <tr>\n",
       "      <th>I.Evangelica</th>\n",
       "      <td></td>\n",
       "      <td></td>\n",
       "      <td></td>\n",
       "      <td></td>\n",
       "    </tr>\n",
       "    <tr>\n",
       "      <th>Partidos Politicos</th>\n",
       "      <td></td>\n",
       "      <td>0.53</td>\n",
       "      <td></td>\n",
       "      <td></td>\n",
       "    </tr>\n",
       "    <tr>\n",
       "      <th>Tribunales Justicia</th>\n",
       "      <td></td>\n",
       "      <td>0.49</td>\n",
       "      <td></td>\n",
       "      <td></td>\n",
       "    </tr>\n",
       "    <tr>\n",
       "      <th>Diarios</th>\n",
       "      <td></td>\n",
       "      <td></td>\n",
       "      <td>0.62</td>\n",
       "      <td></td>\n",
       "    </tr>\n",
       "    <tr>\n",
       "      <th>Television</th>\n",
       "      <td></td>\n",
       "      <td></td>\n",
       "      <td>0.61</td>\n",
       "      <td></td>\n",
       "    </tr>\n",
       "    <tr>\n",
       "      <th>Radio</th>\n",
       "      <td></td>\n",
       "      <td></td>\n",
       "      <td>0.48</td>\n",
       "      <td></td>\n",
       "    </tr>\n",
       "    <tr>\n",
       "      <th>RRSS</th>\n",
       "      <td></td>\n",
       "      <td></td>\n",
       "      <td></td>\n",
       "      <td>0.5</td>\n",
       "    </tr>\n",
       "    <tr>\n",
       "      <th>Sindicatos</th>\n",
       "      <td></td>\n",
       "      <td></td>\n",
       "      <td></td>\n",
       "      <td>0.49</td>\n",
       "    </tr>\n",
       "    <tr>\n",
       "      <th>Carabineros</th>\n",
       "      <td>0.73</td>\n",
       "      <td></td>\n",
       "      <td></td>\n",
       "      <td></td>\n",
       "    </tr>\n",
       "    <tr>\n",
       "      <th>Gobierno</th>\n",
       "      <td>0.53</td>\n",
       "      <td>0.43</td>\n",
       "      <td></td>\n",
       "      <td></td>\n",
       "    </tr>\n",
       "    <tr>\n",
       "      <th>Congreso</th>\n",
       "      <td></td>\n",
       "      <td>0.66</td>\n",
       "      <td></td>\n",
       "      <td></td>\n",
       "    </tr>\n",
       "    <tr>\n",
       "      <th>Empresas Privadas</th>\n",
       "      <td></td>\n",
       "      <td>0.46</td>\n",
       "      <td></td>\n",
       "      <td></td>\n",
       "    </tr>\n",
       "    <tr>\n",
       "      <th>Municipalidades</th>\n",
       "      <td>0.41</td>\n",
       "      <td></td>\n",
       "      <td></td>\n",
       "      <td></td>\n",
       "    </tr>\n",
       "    <tr>\n",
       "      <th>Fiscales</th>\n",
       "      <td></td>\n",
       "      <td>0.47</td>\n",
       "      <td></td>\n",
       "      <td></td>\n",
       "    </tr>\n",
       "    <tr>\n",
       "      <th>PDI</th>\n",
       "      <td>0.58</td>\n",
       "      <td></td>\n",
       "      <td></td>\n",
       "      <td></td>\n",
       "    </tr>\n",
       "  </tbody>\n",
       "</table>\n",
       "</div>"
      ],
      "text/plain": [
       "                    Factor1 Factor2 Factor3 Factor4\n",
       "I.Catolica                                         \n",
       "FF.AA                  0.71                        \n",
       "I.Evangelica                                       \n",
       "Partidos Politicos             0.53                \n",
       "Tribunales Justicia            0.49                \n",
       "Diarios                                0.62        \n",
       "Television                             0.61        \n",
       "Radio                                  0.48        \n",
       "RRSS                                            0.5\n",
       "Sindicatos                                     0.49\n",
       "Carabineros            0.73                        \n",
       "Gobierno               0.53    0.43                \n",
       "Congreso                       0.66                \n",
       "Empresas Privadas              0.46                \n",
       "Municipalidades        0.41                        \n",
       "Fiscales                       0.47                \n",
       "PDI                    0.58                        "
      ]
     },
     "execution_count": 21,
     "metadata": {},
     "output_type": "execute_result"
    }
   ],
   "source": [
    "# 8. Destacar cargas \n",
    "loadings_df.applymap(lambda x: np.where(x < .4, \" \", round(x, 2)))"
   ]
  },
  {
   "cell_type": "markdown",
   "metadata": {},
   "source": [
    "- Se observa que para el factor 1 los valores mas predominantes se encuentran en las instituciones de seguridad (FF.AA, Carabineros y PDI)\n",
    "- Se observa que para el factor 2 los valors mas predominantes se encuentran en las instituciones mas institucionales (Congreso, Partidos politicos, Tribunales de Justicia)\n",
    "- Se observa que para el factor 3 los valors mas predominantes se encuentran en las instituciones mas tradicionales (Diarios, Telivision y Radio)\n",
    "- Se observa que para el factor 4 los valors mas predominantes se encuentran en las instituciones mas de expresion (RRSS)"
   ]
  },
  {
   "cell_type": "code",
   "execution_count": 22,
   "metadata": {},
   "outputs": [
    {
     "data": {
      "text/html": [
       "<div>\n",
       "<style scoped>\n",
       "    .dataframe tbody tr th:only-of-type {\n",
       "        vertical-align: middle;\n",
       "    }\n",
       "\n",
       "    .dataframe tbody tr th {\n",
       "        vertical-align: top;\n",
       "    }\n",
       "\n",
       "    .dataframe thead th {\n",
       "        text-align: right;\n",
       "    }\n",
       "</style>\n",
       "<table border=\"1\" class=\"dataframe\">\n",
       "  <thead>\n",
       "    <tr style=\"text-align: right;\">\n",
       "      <th></th>\n",
       "      <th>Factor1</th>\n",
       "      <th>Factor2</th>\n",
       "      <th>Factor3</th>\n",
       "      <th>Factor4</th>\n",
       "    </tr>\n",
       "  </thead>\n",
       "  <tbody>\n",
       "    <tr>\n",
       "      <th>Sum of squared loadings (variance)</th>\n",
       "      <td>2.351202</td>\n",
       "      <td>1.972786</td>\n",
       "      <td>1.407859</td>\n",
       "      <td>1.115616</td>\n",
       "    </tr>\n",
       "    <tr>\n",
       "      <th>Proportional variance</th>\n",
       "      <td>0.138306</td>\n",
       "      <td>0.116046</td>\n",
       "      <td>0.082815</td>\n",
       "      <td>0.065624</td>\n",
       "    </tr>\n",
       "    <tr>\n",
       "      <th>Cumulative variance</th>\n",
       "      <td>0.138306</td>\n",
       "      <td>0.254352</td>\n",
       "      <td>0.337168</td>\n",
       "      <td>0.402792</td>\n",
       "    </tr>\n",
       "  </tbody>\n",
       "</table>\n",
       "</div>"
      ],
      "text/plain": [
       "                                     Factor1   Factor2   Factor3   Factor4\n",
       "Sum of squared loadings (variance)  2.351202  1.972786  1.407859  1.115616\n",
       "Proportional variance               0.138306  0.116046  0.082815  0.065624\n",
       "Cumulative variance                 0.138306  0.254352  0.337168  0.402792"
      ]
     },
     "execution_count": 22,
     "metadata": {},
     "output_type": "execute_result"
    }
   ],
   "source": [
    "# 9. Varianza de factores como DF\n",
    "factor_var = factorize_dos.get_factor_variance()\n",
    "df_fv = pd.DataFrame(\n",
    "    factor_var, \n",
    "    columns=[\"Factor1\", \"Factor2\", 'Factor3', 'Factor4'],\n",
    "    index=[\"Sum of squared loadings (variance)\", \"Proportional variance\", \"Cumulative variance\"] # Obtenido de documentación\n",
    ")\n",
    "df_fv"
   ]
  },
  {
   "cell_type": "markdown",
   "metadata": {},
   "source": [
    "- Se observa que cada una de estas dimensiones explica en un 13.8%, 11.6%, 8.3% y 6.6% respectivamente (Proportional variance) la variabilidad de los puntajes de estas dimensiones.\n",
    "- En conjunto explican el 40.3% de la variabilidad"
   ]
  },
  {
   "cell_type": "code",
   "execution_count": 23,
   "metadata": {},
   "outputs": [
    {
     "data": {
      "text/plain": [
       "array([[-0.50420624, -0.4866396 ,  0.30402515,  0.66831918],\n",
       "       [-0.69207108,  0.0464015 , -1.79577588,  2.01911772],\n",
       "       [ 0.82092489,  0.15299001,  0.71946184,  0.32708413],\n",
       "       ...,\n",
       "       [-0.4289292 , -0.80243051, -1.15711022, -0.05351693],\n",
       "       [-0.25313173,  0.37781328, -1.19889419,  0.79745235],\n",
       "       [-0.93983481, -0.04523063, -0.55080633,  0.06746861]])"
      ]
     },
     "execution_count": 23,
     "metadata": {},
     "output_type": "execute_result"
    }
   ],
   "source": [
    "# 10. Obtención de scores: Usar método transform\n",
    "scores = factorize_dos.transform(trust_df)\n",
    "scores"
   ]
  },
  {
   "cell_type": "code",
   "execution_count": 24,
   "metadata": {},
   "outputs": [
    {
     "data": {
      "text/html": [
       "<div>\n",
       "<style scoped>\n",
       "    .dataframe tbody tr th:only-of-type {\n",
       "        vertical-align: middle;\n",
       "    }\n",
       "\n",
       "    .dataframe tbody tr th {\n",
       "        vertical-align: top;\n",
       "    }\n",
       "\n",
       "    .dataframe thead th {\n",
       "        text-align: right;\n",
       "    }\n",
       "</style>\n",
       "<table border=\"1\" class=\"dataframe\">\n",
       "  <thead>\n",
       "    <tr style=\"text-align: right;\">\n",
       "      <th></th>\n",
       "      <th>Factor1</th>\n",
       "      <th>Factor2</th>\n",
       "      <th>Factor3</th>\n",
       "      <th>Factor4</th>\n",
       "    </tr>\n",
       "  </thead>\n",
       "  <tbody>\n",
       "    <tr>\n",
       "      <th>0</th>\n",
       "      <td>-0.504206</td>\n",
       "      <td>-0.486640</td>\n",
       "      <td>0.304025</td>\n",
       "      <td>0.668319</td>\n",
       "    </tr>\n",
       "    <tr>\n",
       "      <th>1</th>\n",
       "      <td>-0.692071</td>\n",
       "      <td>0.046401</td>\n",
       "      <td>-1.795776</td>\n",
       "      <td>2.019118</td>\n",
       "    </tr>\n",
       "    <tr>\n",
       "      <th>2</th>\n",
       "      <td>0.820925</td>\n",
       "      <td>0.152990</td>\n",
       "      <td>0.719462</td>\n",
       "      <td>0.327084</td>\n",
       "    </tr>\n",
       "    <tr>\n",
       "      <th>3</th>\n",
       "      <td>0.469036</td>\n",
       "      <td>0.261289</td>\n",
       "      <td>0.773620</td>\n",
       "      <td>-0.447775</td>\n",
       "    </tr>\n",
       "    <tr>\n",
       "      <th>4</th>\n",
       "      <td>0.421007</td>\n",
       "      <td>0.008426</td>\n",
       "      <td>0.693718</td>\n",
       "      <td>-0.655730</td>\n",
       "    </tr>\n",
       "    <tr>\n",
       "      <th>...</th>\n",
       "      <td>...</td>\n",
       "      <td>...</td>\n",
       "      <td>...</td>\n",
       "      <td>...</td>\n",
       "    </tr>\n",
       "    <tr>\n",
       "      <th>1491</th>\n",
       "      <td>-0.371491</td>\n",
       "      <td>2.334538</td>\n",
       "      <td>-1.316622</td>\n",
       "      <td>4.454371</td>\n",
       "    </tr>\n",
       "    <tr>\n",
       "      <th>1492</th>\n",
       "      <td>-0.359394</td>\n",
       "      <td>-0.478720</td>\n",
       "      <td>-0.249376</td>\n",
       "      <td>-1.114712</td>\n",
       "    </tr>\n",
       "    <tr>\n",
       "      <th>1493</th>\n",
       "      <td>-0.428929</td>\n",
       "      <td>-0.802431</td>\n",
       "      <td>-1.157110</td>\n",
       "      <td>-0.053517</td>\n",
       "    </tr>\n",
       "    <tr>\n",
       "      <th>1494</th>\n",
       "      <td>-0.253132</td>\n",
       "      <td>0.377813</td>\n",
       "      <td>-1.198894</td>\n",
       "      <td>0.797452</td>\n",
       "    </tr>\n",
       "    <tr>\n",
       "      <th>1495</th>\n",
       "      <td>-0.939835</td>\n",
       "      <td>-0.045231</td>\n",
       "      <td>-0.550806</td>\n",
       "      <td>0.067469</td>\n",
       "    </tr>\n",
       "  </tbody>\n",
       "</table>\n",
       "<p>1496 rows × 4 columns</p>\n",
       "</div>"
      ],
      "text/plain": [
       "       Factor1   Factor2   Factor3   Factor4\n",
       "0    -0.504206 -0.486640  0.304025  0.668319\n",
       "1    -0.692071  0.046401 -1.795776  2.019118\n",
       "2     0.820925  0.152990  0.719462  0.327084\n",
       "3     0.469036  0.261289  0.773620 -0.447775\n",
       "4     0.421007  0.008426  0.693718 -0.655730\n",
       "...        ...       ...       ...       ...\n",
       "1491 -0.371491  2.334538 -1.316622  4.454371\n",
       "1492 -0.359394 -0.478720 -0.249376 -1.114712\n",
       "1493 -0.428929 -0.802431 -1.157110 -0.053517\n",
       "1494 -0.253132  0.377813 -1.198894  0.797452\n",
       "1495 -0.939835 -0.045231 -0.550806  0.067469\n",
       "\n",
       "[1496 rows x 4 columns]"
      ]
     },
     "execution_count": 24,
     "metadata": {},
     "output_type": "execute_result"
    }
   ],
   "source": [
    "score_df = pd.DataFrame(scores, columns=[\"Factor1\", \"Factor2\", 'Factor3', 'Factor4'])\n",
    "score_df"
   ]
  },
  {
   "cell_type": "code",
   "execution_count": 25,
   "metadata": {},
   "outputs": [
    {
     "data": {
      "image/png": "[encoded data removed]",
      "text/plain": [
       "<Figure size 1008x504 with 1 Axes>"
      ]
     },
     "metadata": {},
     "output_type": "display_data"
    }
   ],
   "source": [
    "# 11. Distribuciones\n",
    "plt.figure(figsize=(14,7))\n",
    "sns.distplot(scores[:,0], label=\"Seguridad\")\n",
    "sns.distplot(scores[:,1], label=\"Institucionales\")\n",
    "sns.distplot(scores[:,2], label = 'Tradicionales')\n",
    "sns.distplot(scores[:,3], label = 'Expresion')\n",
    "plt.legend();"
   ]
  },
  {
   "cell_type": "markdown",
   "metadata": {},
   "source": [
    "- Se puede observar que existe una leve inclinacion hacia valores mas positivos en aquellos factores de Seguridad y Tradicionales.\n",
    "- Se podria desprender que existe una mejor evaluacion sobre aquellas instituciones de seguridad (carabineros, PDI, FF.AA) sobre aquellas más de nivel institucional y de expresion."
   ]
  },
  {
   "cell_type": "code",
   "execution_count": null,
   "metadata": {},
   "outputs": [],
   "source": []
  }
 ],
 "metadata": {
  "hide_input": false,
  "kernelspec": {
   "display_name": "Python 3",
   "language": "python",
   "name": "python3"
  },
  "language_info": {
   "codemirror_mode": {
    "name": "ipython",
    "version": 3
   },
   "file_extension": ".py",
   "mimetype": "text/x-python",
   "name": "python",
   "nbconvert_exporter": "python",
   "pygments_lexer": "ipython3",
   "version": "3.7.6"
  }
 },
 "nbformat": 4,
 "nbformat_minor": 4
}
